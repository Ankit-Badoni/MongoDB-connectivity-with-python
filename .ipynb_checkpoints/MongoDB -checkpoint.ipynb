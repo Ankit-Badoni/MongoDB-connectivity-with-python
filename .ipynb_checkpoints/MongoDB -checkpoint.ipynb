{
 "cells": [
  {
   "cell_type": "markdown",
   "id": "90da2f56",
   "metadata": {},
   "source": [
    "# MONGODB \n",
    "   Used for unstructured data "
   ]
  },
  {
   "cell_type": "markdown",
   "id": "d7957f5a",
   "metadata": {},
   "source": [
    "#### Here we will perform basic CRUD operations"
   ]
  },
  {
   "cell_type": "code",
   "execution_count": 1,
   "id": "92d4cc1b",
   "metadata": {},
   "outputs": [
    {
     "name": "stdout",
     "output_type": "stream",
     "text": [
      "Collecting pymongo\n",
      "  Downloading pymongo-4.5.0-cp39-cp39-win_amd64.whl (468 kB)\n",
      "Collecting dnspython<3.0.0,>=1.16.0\n",
      "  Downloading dnspython-2.4.2-py3-none-any.whl (300 kB)\n",
      "Installing collected packages: dnspython, pymongo\n",
      "Successfully installed dnspython-2.4.2 pymongo-4.5.0\n"
     ]
    }
   ],
   "source": [
    "# Installing required package for python-mongodb connection\n",
    "!pip install pymongo"
   ]
  },
  {
   "cell_type": "code",
   "execution_count": 2,
   "id": "14e0e60e",
   "metadata": {},
   "outputs": [],
   "source": [
    "from pymongo import MongoClient"
   ]
  },
  {
   "cell_type": "code",
   "execution_count": 3,
   "id": "cf1c9e0c",
   "metadata": {},
   "outputs": [],
   "source": [
    "conn=MongoClient()"
   ]
  },
  {
   "cell_type": "code",
   "execution_count": 5,
   "id": "4d928522",
   "metadata": {},
   "outputs": [],
   "source": [
    "# Creating the Journel/Database\n",
    "journel=conn[\"College\"]"
   ]
  },
  {
   "cell_type": "code",
   "execution_count": 6,
   "id": "18282af4",
   "metadata": {},
   "outputs": [],
   "source": [
    "# Creating the Collection/Table \n",
    "collection=journel[\"student\"]"
   ]
  },
  {
   "cell_type": "markdown",
   "id": "64fd4135",
   "metadata": {},
   "source": [
    "### Inserting documents/row into collection"
   ]
  },
  {
   "cell_type": "code",
   "execution_count": 7,
   "id": "7b1bfddd",
   "metadata": {},
   "outputs": [
    {
     "data": {
      "text/plain": [
       "<pymongo.results.InsertOneResult at 0x18102d819a0>"
      ]
     },
     "execution_count": 7,
     "metadata": {},
     "output_type": "execute_result"
    }
   ],
   "source": [
    "collection.insert_one({'_id':1,'name':'Ankit','program':'Mca','age':23})"
   ]
  },
  {
   "cell_type": "code",
   "execution_count": 8,
   "id": "483bd462",
   "metadata": {},
   "outputs": [
    {
     "data": {
      "text/plain": [
       "<pymongo.results.InsertOneResult at 0x18102d81b80>"
      ]
     },
     "execution_count": 8,
     "metadata": {},
     "output_type": "execute_result"
    }
   ],
   "source": [
    "collection.insert_one({'_id':2,'name':'Piyush','program':'Mca','age':22})"
   ]
  },
  {
   "cell_type": "code",
   "execution_count": 9,
   "id": "3b154e07",
   "metadata": {},
   "outputs": [
    {
     "data": {
      "text/plain": [
       "<pymongo.results.InsertOneResult at 0x18102d81940>"
      ]
     },
     "execution_count": 9,
     "metadata": {},
     "output_type": "execute_result"
    }
   ],
   "source": [
    "collection.insert_one({'_id':3,'name':'Mohit','program':'Mba','age':20})"
   ]
  },
  {
   "cell_type": "code",
   "execution_count": 11,
   "id": "f68afdc0",
   "metadata": {},
   "outputs": [
    {
     "data": {
      "text/plain": [
       "<pymongo.results.InsertOneResult at 0x1810317e6d0>"
      ]
     },
     "execution_count": 11,
     "metadata": {},
     "output_type": "execute_result"
    }
   ],
   "source": [
    "collection.insert_one({'_id':4,'name':'Jayant','program':'Mca','age':22,'class':'1st year'})"
   ]
  },
  {
   "cell_type": "code",
   "execution_count": 12,
   "id": "b7851310",
   "metadata": {},
   "outputs": [
    {
     "data": {
      "text/plain": [
       "<pymongo.results.InsertOneResult at 0x18103110550>"
      ]
     },
     "execution_count": 12,
     "metadata": {},
     "output_type": "execute_result"
    }
   ],
   "source": [
    "collection.insert_one({'_id':5,'name':'Anuj','program':'Mca','age':22,'class':'1st year','city':'Greater noida'})"
   ]
  },
  {
   "cell_type": "markdown",
   "id": "00e8d339",
   "metadata": {},
   "source": [
    "### Reading the data from collection"
   ]
  },
  {
   "cell_type": "code",
   "execution_count": 27,
   "id": "75516bca",
   "metadata": {},
   "outputs": [
    {
     "name": "stdout",
     "output_type": "stream",
     "text": [
      "{'_id': 1, 'name': 'Ankit', 'program': 'Mca', 'age': 23}\n",
      "{'_id': 2, 'name': 'Piyush', 'program': 'Mca', 'age': 22}\n",
      "{'_id': 3, 'name': 'Mohit', 'program': 'Mba', 'age': 20}\n",
      "{'_id': 4, 'name': 'Jayant', 'program': 'Mca', 'age': 22, 'class': '1st year'}\n",
      "{'_id': 5, 'name': 'Anuj', 'program': 'Mca', 'age': 22, 'class': '1st year', 'city': 'Greater noida'}\n"
     ]
    }
   ],
   "source": [
    "print(*list(collection.find()),sep=\"\\n\")"
   ]
  },
  {
   "cell_type": "code",
   "execution_count": 23,
   "id": "701b553e",
   "metadata": {},
   "outputs": [
    {
     "data": {
      "text/plain": [
       "[{'_id': 4,\n",
       "  'name': 'Jayant',\n",
       "  'program': 'Mca',\n",
       "  'age': 22,\n",
       "  'class': '1st year'},\n",
       " {'_id': 5,\n",
       "  'name': 'Anuj',\n",
       "  'program': 'Mca',\n",
       "  'age': 22,\n",
       "  'class': '1st year',\n",
       "  'city': 'Greater noida'}]"
      ]
     },
     "execution_count": 23,
     "metadata": {},
     "output_type": "execute_result"
    }
   ],
   "source": [
    "list(collection.find({'class':{'$exists':True}}))"
   ]
  },
  {
   "cell_type": "code",
   "execution_count": 29,
   "id": "c84e39e7",
   "metadata": {},
   "outputs": [
    {
     "data": {
      "text/plain": [
       "[{'_id': 1, 'name': 'Ankit', 'program': 'Mca', 'age': 23},\n",
       " {'_id': 2, 'name': 'Piyush', 'program': 'Mca', 'age': 22},\n",
       " {'_id': 3, 'name': 'Mohit', 'program': 'Mba', 'age': 20}]"
      ]
     },
     "execution_count": 29,
     "metadata": {},
     "output_type": "execute_result"
    }
   ],
   "source": [
    "list(collection.find({'class':{'$exists':False}}))"
   ]
  },
  {
   "cell_type": "code",
   "execution_count": 30,
   "id": "a1f4125f",
   "metadata": {},
   "outputs": [
    {
     "data": {
      "text/plain": [
       "[{'_id': 1, 'name': 'Ankit', 'program': 'Mca', 'age': 23}]"
      ]
     },
     "execution_count": 30,
     "metadata": {},
     "output_type": "execute_result"
    }
   ],
   "source": [
    "list(collection.find({'name':{'$eq':'Ankit'}}))"
   ]
  },
  {
   "cell_type": "code",
   "execution_count": 31,
   "id": "3d3a111b",
   "metadata": {},
   "outputs": [
    {
     "data": {
      "text/plain": [
       "[{'_id': 2, 'name': 'Piyush', 'program': 'Mca', 'age': 22},\n",
       " {'_id': 4,\n",
       "  'name': 'Jayant',\n",
       "  'program': 'Mca',\n",
       "  'age': 22,\n",
       "  'class': '1st year'},\n",
       " {'_id': 5,\n",
       "  'name': 'Anuj',\n",
       "  'program': 'Mca',\n",
       "  'age': 22,\n",
       "  'class': '1st year',\n",
       "  'city': 'Greater noida'}]"
      ]
     },
     "execution_count": 31,
     "metadata": {},
     "output_type": "execute_result"
    }
   ],
   "source": [
    "list(collection.find({'age':{'$eq':22}}))"
   ]
  },
  {
   "cell_type": "code",
   "execution_count": 32,
   "id": "692f7fff",
   "metadata": {},
   "outputs": [
    {
     "data": {
      "text/plain": [
       "[{'_id': 4,\n",
       "  'name': 'Jayant',\n",
       "  'program': 'Mca',\n",
       "  'age': 22,\n",
       "  'class': '1st year'},\n",
       " {'_id': 5,\n",
       "  'name': 'Anuj',\n",
       "  'program': 'Mca',\n",
       "  'age': 22,\n",
       "  'class': '1st year',\n",
       "  'city': 'Greater noida'}]"
      ]
     },
     "execution_count": 32,
     "metadata": {},
     "output_type": "execute_result"
    }
   ],
   "source": [
    "list(collection.find({'class':{'$exists':True},'age':22}))"
   ]
  },
  {
   "cell_type": "markdown",
   "id": "6203f640",
   "metadata": {},
   "source": [
    "### Updating the documents"
   ]
  },
  {
   "cell_type": "code",
   "execution_count": 34,
   "id": "ba5c0214",
   "metadata": {},
   "outputs": [
    {
     "data": {
      "text/plain": [
       "<pymongo.results.UpdateResult at 0x18102af3340>"
      ]
     },
     "execution_count": 34,
     "metadata": {},
     "output_type": "execute_result"
    }
   ],
   "source": [
    "collection.update_many({},{\"$set\":{'college':'GNIOT'}})"
   ]
  },
  {
   "cell_type": "code",
   "execution_count": 36,
   "id": "dc1c6d98",
   "metadata": {},
   "outputs": [
    {
     "name": "stdout",
     "output_type": "stream",
     "text": [
      "{'_id': 1, 'name': 'Ankit', 'program': 'Mca', 'age': 23, 'college': 'GNIOT'}\n",
      "\n",
      "{'_id': 2, 'name': 'Piyush', 'program': 'Mca', 'age': 22, 'college': 'GNIOT'}\n",
      "\n",
      "{'_id': 3, 'name': 'Mohit', 'program': 'Mba', 'age': 20, 'college': 'GNIOT'}\n",
      "\n",
      "{'_id': 4, 'name': 'Jayant', 'program': 'Mca', 'age': 22, 'class': '1st year', 'college': 'GNIOT'}\n",
      "\n",
      "{'_id': 5, 'name': 'Anuj', 'program': 'Mca', 'age': 22, 'class': '1st year', 'city': 'Greater noida', 'college': 'GNIOT'}\n"
     ]
    }
   ],
   "source": [
    "print(*list(collection.find()),sep=\"\\n\\n\")"
   ]
  },
  {
   "cell_type": "code",
   "execution_count": 39,
   "id": "d1f71652",
   "metadata": {},
   "outputs": [
    {
     "data": {
      "text/plain": [
       "<pymongo.results.UpdateResult at 0x18102b3d9a0>"
      ]
     },
     "execution_count": 39,
     "metadata": {},
     "output_type": "execute_result"
    }
   ],
   "source": [
    "collection.update_many({'city':{'$eq':'Greater noida'}},{\"$set\":{'state':'UP'}})"
   ]
  },
  {
   "cell_type": "code",
   "execution_count": 40,
   "id": "d79d28e2",
   "metadata": {},
   "outputs": [
    {
     "name": "stdout",
     "output_type": "stream",
     "text": [
      "{'_id': 1, 'name': 'Ankit', 'program': 'Mca', 'age': 23, 'college': 'GNIOT'}\n",
      "\n",
      "{'_id': 2, 'name': 'Piyush', 'program': 'Mca', 'age': 22, 'college': 'GNIOT'}\n",
      "\n",
      "{'_id': 3, 'name': 'Mohit', 'program': 'Mba', 'age': 20, 'college': 'GNIOT'}\n",
      "\n",
      "{'_id': 4, 'name': 'Jayant', 'program': 'Mca', 'age': 22, 'class': '1st year', 'college': 'GNIOT'}\n",
      "\n",
      "{'_id': 5, 'name': 'Anuj', 'program': 'Mca', 'age': 22, 'class': '1st year', 'city': 'Greater noida', 'college': 'GNIOT', 'state': 'UP'}\n"
     ]
    }
   ],
   "source": [
    "print(*list(collection.find()),sep=\"\\n\\n\")"
   ]
  },
  {
   "cell_type": "code",
   "execution_count": 41,
   "id": "6a1a35d3",
   "metadata": {},
   "outputs": [
    {
     "data": {
      "text/plain": [
       "<pymongo.results.UpdateResult at 0x18104d3d0d0>"
      ]
     },
     "execution_count": 41,
     "metadata": {},
     "output_type": "execute_result"
    }
   ],
   "source": [
    "collection.update_many({'age':{'$gt':22}},{\"$unset\":{'college':False}})"
   ]
  },
  {
   "cell_type": "code",
   "execution_count": 42,
   "id": "66cea54a",
   "metadata": {},
   "outputs": [
    {
     "name": "stdout",
     "output_type": "stream",
     "text": [
      "{'_id': 1, 'name': 'Ankit', 'program': 'Mca', 'age': 23}\n",
      "\n",
      "{'_id': 2, 'name': 'Piyush', 'program': 'Mca', 'age': 22, 'college': 'GNIOT'}\n",
      "\n",
      "{'_id': 3, 'name': 'Mohit', 'program': 'Mba', 'age': 20, 'college': 'GNIOT'}\n",
      "\n",
      "{'_id': 4, 'name': 'Jayant', 'program': 'Mca', 'age': 22, 'class': '1st year', 'college': 'GNIOT'}\n",
      "\n",
      "{'_id': 5, 'name': 'Anuj', 'program': 'Mca', 'age': 22, 'class': '1st year', 'city': 'Greater noida', 'college': 'GNIOT', 'state': 'UP'}\n"
     ]
    }
   ],
   "source": [
    "print(*list(collection.find()),sep=\"\\n\\n\")"
   ]
  },
  {
   "cell_type": "code",
   "execution_count": 43,
   "id": "5884cf81",
   "metadata": {},
   "outputs": [
    {
     "data": {
      "text/plain": [
       "<pymongo.results.UpdateResult at 0x181031106d0>"
      ]
     },
     "execution_count": 43,
     "metadata": {},
     "output_type": "execute_result"
    }
   ],
   "source": [
    "collection.update_many({'_id':{'$eq':4}},{\"$unset\":{'college':True}})"
   ]
  },
  {
   "cell_type": "code",
   "execution_count": 44,
   "id": "8c18c404",
   "metadata": {},
   "outputs": [
    {
     "name": "stdout",
     "output_type": "stream",
     "text": [
      "{'_id': 1, 'name': 'Ankit', 'program': 'Mca', 'age': 23}\n",
      "\n",
      "{'_id': 2, 'name': 'Piyush', 'program': 'Mca', 'age': 22, 'college': 'GNIOT'}\n",
      "\n",
      "{'_id': 3, 'name': 'Mohit', 'program': 'Mba', 'age': 20, 'college': 'GNIOT'}\n",
      "\n",
      "{'_id': 4, 'name': 'Jayant', 'program': 'Mca', 'age': 22, 'class': '1st year'}\n",
      "\n",
      "{'_id': 5, 'name': 'Anuj', 'program': 'Mca', 'age': 22, 'class': '1st year', 'city': 'Greater noida', 'college': 'GNIOT', 'state': 'UP'}\n"
     ]
    }
   ],
   "source": [
    "print(*list(collection.find()),sep=\"\\n\\n\")"
   ]
  },
  {
   "cell_type": "markdown",
   "id": "98824fb9",
   "metadata": {},
   "source": [
    "### Deletion operation "
   ]
  },
  {
   "cell_type": "code",
   "execution_count": 45,
   "id": "405d5c13",
   "metadata": {},
   "outputs": [
    {
     "data": {
      "text/plain": [
       "<pymongo.results.DeleteResult at 0x18104d3cac0>"
      ]
     },
     "execution_count": 45,
     "metadata": {},
     "output_type": "execute_result"
    }
   ],
   "source": [
    "collection.delete_one({'state':'UP'})"
   ]
  },
  {
   "cell_type": "code",
   "execution_count": 46,
   "id": "cbe66e40",
   "metadata": {},
   "outputs": [
    {
     "name": "stdout",
     "output_type": "stream",
     "text": [
      "{'_id': 1, 'name': 'Ankit', 'program': 'Mca', 'age': 23}\n",
      "\n",
      "{'_id': 2, 'name': 'Piyush', 'program': 'Mca', 'age': 22, 'college': 'GNIOT'}\n",
      "\n",
      "{'_id': 3, 'name': 'Mohit', 'program': 'Mba', 'age': 20, 'college': 'GNIOT'}\n",
      "\n",
      "{'_id': 4, 'name': 'Jayant', 'program': 'Mca', 'age': 22, 'class': '1st year'}\n"
     ]
    }
   ],
   "source": [
    "print(*list(collection.find()),sep=\"\\n\\n\")"
   ]
  },
  {
   "cell_type": "code",
   "execution_count": 47,
   "id": "95760d90",
   "metadata": {},
   "outputs": [],
   "source": [
    "#To delete all the documents"
   ]
  },
  {
   "cell_type": "code",
   "execution_count": 49,
   "id": "586b4d14",
   "metadata": {},
   "outputs": [
    {
     "data": {
      "text/plain": [
       "<pymongo.results.DeleteResult at 0x18104d6d0d0>"
      ]
     },
     "execution_count": 49,
     "metadata": {},
     "output_type": "execute_result"
    }
   ],
   "source": [
    "collection.delete_many({})"
   ]
  },
  {
   "cell_type": "code",
   "execution_count": 51,
   "id": "79785a4c",
   "metadata": {},
   "outputs": [
    {
     "name": "stdout",
     "output_type": "stream",
     "text": [
      "[]\n"
     ]
    }
   ],
   "source": [
    "print(list(collection.find()),sep=\"\\n\\n\")"
   ]
  },
  {
   "cell_type": "code",
   "execution_count": null,
   "id": "36c355a6",
   "metadata": {},
   "outputs": [],
   "source": []
  }
 ],
 "metadata": {
  "kernelspec": {
   "display_name": "Python 3 (ipykernel)",
   "language": "python",
   "name": "python3"
  },
  "language_info": {
   "codemirror_mode": {
    "name": "ipython",
    "version": 3
   },
   "file_extension": ".py",
   "mimetype": "text/x-python",
   "name": "python",
   "nbconvert_exporter": "python",
   "pygments_lexer": "ipython3",
   "version": "3.9.12"
  }
 },
 "nbformat": 4,
 "nbformat_minor": 5
}
